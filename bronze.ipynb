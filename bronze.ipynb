{
  "cells": [
    {
      "cell_type": "code",
      "execution_count": null,
      "metadata": {
        "colab": {
          "base_uri": "https://localhost:8080/"
        },
        "id": "BowS-sm6Fmwq",
        "outputId": "38aaa072-64b1-453b-b0e1-5392d1658d0a"
      },
      "outputs": [
        {
          "name": "stdout",
          "output_type": "stream",
          "text": [
            "Collecting astrapy\n",
            "  Downloading astrapy-2.0.1-py3-none-any.whl.metadata (23 kB)\n",
            "Collecting cassandra-driver\n",
            "  Downloading cassandra_driver-3.29.2-cp311-cp311-manylinux_2_17_x86_64.manylinux2014_x86_64.whl.metadata (6.2 kB)\n",
            "Requirement already satisfied: pandas in /usr/local/lib/python3.11/dist-packages (2.2.2)\n",
            "Collecting deprecation<2.2.0,>=2.1.0 (from astrapy)\n",
            "  Downloading deprecation-2.1.0-py2.py3-none-any.whl.metadata (4.6 kB)\n",
            "Requirement already satisfied: httpx<1,>=0.25.2 in /usr/local/lib/python3.11/dist-packages (from httpx[http2]<1,>=0.25.2->astrapy) (0.28.1)\n",
            "Collecting pymongo>=3 (from astrapy)\n",
            "  Downloading pymongo-4.12.0-cp311-cp311-manylinux_2_17_x86_64.manylinux2014_x86_64.whl.metadata (22 kB)\n",
            "Requirement already satisfied: toml<0.11.0,>=0.10.2 in /usr/local/lib/python3.11/dist-packages (from astrapy) (0.10.2)\n",
            "Requirement already satisfied: typing-extensions>=4.0 in /usr/local/lib/python3.11/dist-packages (from astrapy) (4.13.1)\n",
            "Collecting uuid6>=2024.1.12 (from astrapy)\n",
            "  Downloading uuid6-2024.7.10-py3-none-any.whl.metadata (8.6 kB)\n",
            "Collecting geomet<0.3,>=0.1 (from cassandra-driver)\n",
            "  Downloading geomet-0.2.1.post1-py3-none-any.whl.metadata (1.0 kB)\n",
            "Requirement already satisfied: numpy>=1.23.2 in /usr/local/lib/python3.11/dist-packages (from pandas) (2.0.2)\n",
            "Requirement already satisfied: python-dateutil>=2.8.2 in /usr/local/lib/python3.11/dist-packages (from pandas) (2.8.2)\n",
            "Requirement already satisfied: pytz>=2020.1 in /usr/local/lib/python3.11/dist-packages (from pandas) (2025.2)\n",
            "Requirement already satisfied: tzdata>=2022.7 in /usr/local/lib/python3.11/dist-packages (from pandas) (2025.2)\n",
            "Requirement already satisfied: packaging in /usr/local/lib/python3.11/dist-packages (from deprecation<2.2.0,>=2.1.0->astrapy) (24.2)\n",
            "Requirement already satisfied: click in /usr/local/lib/python3.11/dist-packages (from geomet<0.3,>=0.1->cassandra-driver) (8.1.8)\n",
            "Requirement already satisfied: six in /usr/local/lib/python3.11/dist-packages (from geomet<0.3,>=0.1->cassandra-driver) (1.17.0)\n",
            "Requirement already satisfied: anyio in /usr/local/lib/python3.11/dist-packages (from httpx<1,>=0.25.2->httpx[http2]<1,>=0.25.2->astrapy) (4.9.0)\n",
            "Requirement already satisfied: certifi in /usr/local/lib/python3.11/dist-packages (from httpx<1,>=0.25.2->httpx[http2]<1,>=0.25.2->astrapy) (2025.1.31)\n",
            "Requirement already satisfied: httpcore==1.* in /usr/local/lib/python3.11/dist-packages (from httpx<1,>=0.25.2->httpx[http2]<1,>=0.25.2->astrapy) (1.0.7)\n",
            "Requirement already satisfied: idna in /usr/local/lib/python3.11/dist-packages (from httpx<1,>=0.25.2->httpx[http2]<1,>=0.25.2->astrapy) (3.10)\n",
            "Requirement already satisfied: h11<0.15,>=0.13 in /usr/local/lib/python3.11/dist-packages (from httpcore==1.*->httpx<1,>=0.25.2->httpx[http2]<1,>=0.25.2->astrapy) (0.14.0)\n",
            "Requirement already satisfied: h2<5,>=3 in /usr/local/lib/python3.11/dist-packages (from httpx[http2]<1,>=0.25.2->astrapy) (4.2.0)\n",
            "Collecting dnspython<3.0.0,>=1.16.0 (from pymongo>=3->astrapy)\n",
            "  Downloading dnspython-2.7.0-py3-none-any.whl.metadata (5.8 kB)\n",
            "Requirement already satisfied: hyperframe<7,>=6.1 in /usr/local/lib/python3.11/dist-packages (from h2<5,>=3->httpx[http2]<1,>=0.25.2->astrapy) (6.1.0)\n",
            "Requirement already satisfied: hpack<5,>=4.1 in /usr/local/lib/python3.11/dist-packages (from h2<5,>=3->httpx[http2]<1,>=0.25.2->astrapy) (4.1.0)\n",
            "Requirement already satisfied: sniffio>=1.1 in /usr/local/lib/python3.11/dist-packages (from anyio->httpx<1,>=0.25.2->httpx[http2]<1,>=0.25.2->astrapy) (1.3.1)\n",
            "Downloading astrapy-2.0.1-py3-none-any.whl (300 kB)\n",
            "\u001b[2K   \u001b[90m━━━━━━━━━━━━━━━━━━━━━━━━━━━━━━━━━━━━━━━━\u001b[0m \u001b[32m300.5/300.5 kB\u001b[0m \u001b[31m11.2 MB/s\u001b[0m eta \u001b[36m0:00:00\u001b[0m\n",
            "\u001b[?25hDownloading cassandra_driver-3.29.2-cp311-cp311-manylinux_2_17_x86_64.manylinux2014_x86_64.whl (3.9 MB)\n",
            "\u001b[2K   \u001b[90m━━━━━━━━━━━━━━━━━━━━━━━━━━━━━━━━━━━━━━━━\u001b[0m \u001b[32m3.9/3.9 MB\u001b[0m \u001b[31m43.5 MB/s\u001b[0m eta \u001b[36m0:00:00\u001b[0m\n",
            "\u001b[?25hDownloading deprecation-2.1.0-py2.py3-none-any.whl (11 kB)\n",
            "Downloading geomet-0.2.1.post1-py3-none-any.whl (18 kB)\n",
            "Downloading pymongo-4.12.0-cp311-cp311-manylinux_2_17_x86_64.manylinux2014_x86_64.whl (1.4 MB)\n",
            "\u001b[2K   \u001b[90m━━━━━━━━━━━━━━━━━━━━━━━━━━━━━━━━━━━━━━━━\u001b[0m \u001b[32m1.4/1.4 MB\u001b[0m \u001b[31m47.6 MB/s\u001b[0m eta \u001b[36m0:00:00\u001b[0m\n",
            "\u001b[?25hDownloading uuid6-2024.7.10-py3-none-any.whl (6.4 kB)\n",
            "Downloading dnspython-2.7.0-py3-none-any.whl (313 kB)\n",
            "\u001b[2K   \u001b[90m━━━━━━━━━━━━━━━━━━━━━━━━━━━━━━━━━━━━━━━━\u001b[0m \u001b[32m313.6/313.6 kB\u001b[0m \u001b[31m18.9 MB/s\u001b[0m eta \u001b[36m0:00:00\u001b[0m\n",
            "\u001b[?25hInstalling collected packages: uuid6, geomet, dnspython, deprecation, pymongo, cassandra-driver, astrapy\n",
            "Successfully installed astrapy-2.0.1 cassandra-driver-3.29.2 deprecation-2.1.0 dnspython-2.7.0 geomet-0.2.1.post1 pymongo-4.12.0 uuid6-2024.7.10\n"
          ]
        }
      ],
      "source": [
        "!pip install astrapy cassandra-driver pandas\n"
      ]
    },
    {
      "cell_type": "code",
      "execution_count": null,
      "metadata": {
        "colab": {
          "base_uri": "https://localhost:8080/"
        },
        "id": "Coq0wDSnGJo-",
        "outputId": "4c26215a-7673-4257-f548-2a963c393c42"
      },
      "outputs": [
        {
          "name": "stdout",
          "output_type": "stream",
          "text": [
            "Connected to Astra DB: []\n"
          ]
        }
      ],
      "source": [
        "from astrapy import DataAPIClient\n",
        "\n",
        "# Initialize the client\n",
        "client = DataAPIClient(\"xxxxxxxxxxxxxxxx\")\n",
        "db = client.get_database_by_api_endpoint(\n",
        "  \"https://47bfa723-13db-41da-a8e1-3232e7c367f2-us-east-2.apps.astra.datastax.com\"\n",
        ")\n",
        "\n",
        "print(f\"Connected to Astra DB: {db.list_collection_names()}\")"
      ]
    },
    {
      "cell_type": "code",
      "execution_count": null,
      "metadata": {
        "colab": {
          "base_uri": "https://localhost:8080/"
        },
        "id": "A10AaFGXGRWK",
        "outputId": "cb7efb66-b9c8-4a21-f94b-6f1d9a02301b"
      },
      "outputs": [
        {
          "name": "stdout",
          "output_type": "stream",
          "text": [
            "Collection created\n"
          ]
        }
      ],
      "source": [
        "collection = db.create_collection(\"sales_bronze\")\n",
        "\n",
        "print(\"Collection created\")\n"
      ]
    },
    {
      "cell_type": "code",
      "execution_count": null,
      "metadata": {
        "id": "b9C0EznzGoHu"
      },
      "outputs": [],
      "source": [
        "import pandas as pd\n"
      ]
    },
    {
      "cell_type": "code",
      "execution_count": null,
      "metadata": {
        "id": "iybu9C5MGeg3"
      },
      "outputs": [],
      "source": [
        "url = 'https://raw.githubusercontent.com/gchandra10/filestorage/main/sales_100.csv'\n",
        "df = pd.read_csv(url)\n"
      ]
    },
    {
      "cell_type": "code",
      "execution_count": null,
      "metadata": {
        "colab": {
          "base_uri": "https://localhost:8080/"
        },
        "id": "DoLbQV19G0WA",
        "outputId": "acc5e93d-2c8b-431a-8fd5-935e76b7a033"
      },
      "outputs": [
        {
          "name": "stdout",
          "output_type": "stream",
          "text": [
            "Index(['Region', 'Country', 'Item Type', 'Sales Channel', 'Order Priority',\n",
            "       'Order Date', 'Order ID', 'Ship Date', 'UnitsSold', 'UnitPrice',\n",
            "       'UnitCost', 'TotalRevenue', 'TotalCost', 'TotalProfit'],\n",
            "      dtype='object')\n"
          ]
        }
      ],
      "source": [
        "print(df.columns)\n"
      ]
    },
    {
      "cell_type": "code",
      "execution_count": null,
      "metadata": {
        "colab": {
          "base_uri": "https://localhost:8080/"
        },
        "id": "HNuznSlbG-i2",
        "outputId": "831afa9c-e7ba-48db-c88c-5685f0ceac9b"
      },
      "outputs": [
        {
          "name": "stdout",
          "output_type": "stream",
          "text": [
            "Index(['region', 'country', 'item type', 'sales channel', 'order priority',\n",
            "       'order date', 'order id', 'ship date', 'unitssold', 'unitprice',\n",
            "       'unitcost', 'totalrevenue', 'totalcost', 'totalprofit'],\n",
            "      dtype='object')\n"
          ]
        }
      ],
      "source": [
        "df.columns = df.columns.str.strip().str.lower()\n",
        "print(df.columns)\n"
      ]
    },
    {
      "cell_type": "code",
      "execution_count": null,
      "metadata": {
        "id": "LC7htkqBHA8w"
      },
      "outputs": [],
      "source": [
        "for _, row in df.iterrows():\n",
        "    data = {\n",
        "        \"order_id\": str(row['order id']),\n",
        "        \"region\": row['region'],\n",
        "        \"country\": row['country'],\n",
        "        \"item_type\": row['item type'],\n",
        "        \"sales_channel\": row['sales channel'],\n",
        "        \"order_priority\": row['order priority'],\n",
        "        \"order_date\": row['order date'],\n",
        "        \"ship_date\": row['ship date'],\n",
        "        \"units_sold\": row['unitssold'],\n",
        "        \"unit_price\": row['unitprice'],\n",
        "        \"unit_cost\": row['unitcost'],\n",
        "        \"total_revenue\": row['totalrevenue'],\n",
        "        \"total_cost\": row['totalcost'],\n",
        "        \"total_profit\": row['totalprofit']\n",
        "    }\n",
        "    collection.insert_one(data)\n"
      ]
    },
    {
      "cell_type": "code",
      "execution_count": null,
      "metadata": {
        "id": "Fa2VaJ8cHVfG"
      },
      "outputs": [],
      "source": [
        "collection = db.create_collection(\"sales_bronze\")\n"
      ]
    },
    {
      "cell_type": "code",
      "execution_count": null,
      "metadata": {
        "colab": {
          "base_uri": "https://localhost:8080/"
        },
        "id": "386T_dpKHYtK",
        "outputId": "6aa6167f-ba09-4a9f-93d5-7222605082de"
      },
      "outputs": [
        {
          "name": "stdout",
          "output_type": "stream",
          "text": [
            "{'_id': '19df6968-2861-4f8d-9f69-682861ff8d31', 'order_id': '667593514', 'region': 'Middle East and North Africa', 'country': 'Morocco', 'item_type': 'Clothes', 'sales_channel': 'Online', 'order_priority': 'M', 'order_date': '9/14/2013', 'ship_date': '10/19/2013', 'units_sold': 4611, 'unit_price': 109.28, 'unit_cost': 35.84, 'total_revenue': 503890.08, 'total_cost': 165258.24, 'total_profit': 338631.84}\n",
            "{'_id': 'a0e6a158-2289-40cb-a6a1-58228930cba5', 'order_id': '752525556', 'region': 'Europe', 'country': 'Albania', 'item_type': 'Baby Food', 'sales_channel': 'Offline', 'order_priority': 'H', 'order_date': '7/19/2012', 'ship_date': '8/13/2012', 'units_sold': 7890, 'unit_price': 255.28, 'unit_cost': 159.42, 'total_revenue': 2014159.2, 'total_cost': 1257823.8, 'total_profit': 756335.4}\n",
            "{'_id': '252d400e-90fb-41e3-ad40-0e90fb21e33d', 'order_id': '156530129', 'region': 'Sub-Saharan Africa', 'country': 'Tanzania', 'item_type': 'Fruits', 'sales_channel': 'Offline', 'order_priority': 'H', 'order_date': '10/20/2014', 'ship_date': '11/29/2014', 'units_sold': 9599, 'unit_price': 9.33, 'unit_cost': 6.92, 'total_revenue': 89558.67, 'total_cost': 66425.08, 'total_profit': 23133.59}\n",
            "{'_id': '769a5bf0-6aa7-4fe3-9a5b-f06aa72fe3c0', 'order_id': '156295812', 'region': 'Australia and Oceania', 'country': 'East Timor', 'item_type': 'Cereal', 'sales_channel': 'Offline', 'order_priority': 'M', 'order_date': '12/7/2015', 'ship_date': '12/30/2015', 'units_sold': 259, 'unit_price': 205.7, 'unit_cost': 117.11, 'total_revenue': 53276.3, 'total_cost': 30331.49, 'total_profit': 22944.81}\n",
            "{'_id': '049fa0ee-e33e-4bc1-9fa0-eee33e8bc1fe', 'order_id': '324669444', 'region': 'Europe', 'country': 'France', 'item_type': 'Cosmetics', 'sales_channel': 'Online', 'order_priority': 'M', 'order_date': '12/7/2015', 'ship_date': '1/18/2016', 'units_sold': 5758, 'unit_price': 437.2, 'unit_cost': 263.33, 'total_revenue': 2517397.6, 'total_cost': 1516254.14, 'total_profit': 1001143.46}\n",
            "{'_id': 'dbd518d0-6408-4ed4-9518-d064087ed4d8', 'order_id': '135178029', 'region': 'Europe', 'country': 'United Kingdom', 'item_type': 'Cosmetics', 'sales_channel': 'Online', 'order_priority': 'L', 'order_date': '5/1/2015', 'ship_date': '5/16/2015', 'units_sold': 1038, 'unit_price': 437.2, 'unit_cost': 263.33, 'total_revenue': 453813.6, 'total_cost': 273336.54, 'total_profit': 180477.06}\n",
            "{'_id': 'c5761d44-9557-4e9e-b61d-4495579e9ecd', 'order_id': '563681733', 'region': 'Sub-Saharan Africa', 'country': 'Togo', 'item_type': 'Cosmetics', 'sales_channel': 'Online', 'order_priority': 'M', 'order_date': '9/8/2015', 'ship_date': '9/9/2015', 'units_sold': 4806, 'unit_price': 437.2, 'unit_cost': 263.33, 'total_revenue': 2101183.2, 'total_cost': 1265563.98, 'total_profit': 835619.22}\n",
            "{'_id': '3ea92859-36f7-4158-a928-5936f7c1584e', 'order_id': '710296428', 'region': 'Asia', 'country': 'Kazakhstan', 'item_type': 'Snacks', 'sales_channel': 'Online', 'order_priority': 'L', 'order_date': '9/8/2013', 'ship_date': '10/25/2013', 'units_sold': 1352, 'unit_price': 152.58, 'unit_cost': 97.44, 'total_revenue': 206288.16, 'total_cost': 131738.88, 'total_profit': 74549.28}\n",
            "{'_id': 'b9a5eabc-2319-4ed9-a5ea-bc2319aed94e', 'order_id': '520480573', 'region': 'Asia', 'country': 'Indonesia', 'item_type': 'Household', 'sales_channel': 'Online', 'order_priority': 'C', 'order_date': '9/28/2011', 'ship_date': '9/28/2011', 'units_sold': 623, 'unit_price': 668.27, 'unit_cost': 502.54, 'total_revenue': 416332.21, 'total_cost': 313082.42, 'total_profit': 103249.79}\n",
            "{'_id': 'd1c47cd3-e97d-4b18-847c-d3e97d9b18ae', 'order_id': '642134416', 'region': 'Europe', 'country': 'Finland', 'item_type': 'Vegetables', 'sales_channel': 'Offline', 'order_priority': 'C', 'order_date': '10/9/2012', 'ship_date': '11/27/2012', 'units_sold': 698, 'unit_price': 154.06, 'unit_cost': 90.93, 'total_revenue': 107533.88, 'total_cost': 63469.14, 'total_profit': 44064.74}\n",
            "{'_id': '40df99c0-b7cb-4fb3-9f99-c0b7cb7fb35d', 'order_id': '659878194', 'region': 'Sub-Saharan Africa', 'country': 'Tanzania', 'item_type': 'Beverages', 'sales_channel': 'Online', 'order_priority': 'L', 'order_date': '11/30/2016', 'ship_date': '1/16/2017', 'units_sold': 1476, 'unit_price': 47.45, 'unit_cost': 31.79, 'total_revenue': 70036.2, 'total_cost': 46922.04, 'total_profit': 23114.16}\n",
            "{'_id': 'd5e737a5-92b6-4e60-a737-a592b6ce60b2', 'order_id': '830410039', 'region': 'Europe', 'country': 'Switzerland', 'item_type': 'Office Supplies', 'sales_channel': 'Offline', 'order_priority': 'C', 'order_date': '7/29/2014', 'ship_date': '8/27/2014', 'units_sold': 5639, 'unit_price': 651.21, 'unit_cost': 524.96, 'total_revenue': 3672173.19, 'total_cost': 2960249.44, 'total_profit': 711923.75}\n",
            "{'_id': 'd7ccc1b4-454c-4ec3-8cc1-b4454c5ec3de', 'order_id': '286891067', 'region': 'Central America and the Caribbean', 'country': 'Antigua and Barbuda ', 'item_type': 'Office Supplies', 'sales_channel': 'Offline', 'order_priority': 'C', 'order_date': '10/2/2011', 'ship_date': '10/4/2011', 'units_sold': 6297, 'unit_price': 651.21, 'unit_cost': 524.96, 'total_revenue': 4100669.37, 'total_cost': 3305673.12, 'total_profit': 794996.25}\n",
            "{'_id': '0ed63d1f-6076-4fde-963d-1f6076afdedc', 'order_id': '807785928', 'region': 'Sub-Saharan Africa', 'country': 'Ethiopia', 'item_type': 'Cosmetics', 'sales_channel': 'Online', 'order_priority': 'M', 'order_date': '7/7/2011', 'ship_date': '7/25/2011', 'units_sold': 662, 'unit_price': 437.2, 'unit_cost': 263.33, 'total_revenue': 289426.4, 'total_cost': 174324.46, 'total_profit': 115101.94}\n",
            "{'_id': '23608ddd-86bc-4497-a08d-dd86bcc49710', 'order_id': '529276502', 'region': 'Sub-Saharan Africa', 'country': 'Burundi', 'item_type': 'Beverages', 'sales_channel': 'Online', 'order_priority': 'H', 'order_date': '3/9/2011', 'ship_date': '4/9/2011', 'units_sold': 3533, 'unit_price': 47.45, 'unit_cost': 31.79, 'total_revenue': 167640.85, 'total_cost': 112314.07, 'total_profit': 55326.78}\n",
            "{'_id': 'bacc9fbb-0f97-44e7-8c9f-bb0f9784e777', 'order_id': '190777862', 'region': 'North America', 'country': 'United States of America', 'item_type': 'Personal Care', 'sales_channel': 'Online', 'order_priority': 'H', 'order_date': '1/21/2016', 'ship_date': '2/19/2016', 'units_sold': 4264, 'unit_price': 81.73, 'unit_cost': 56.67, 'total_revenue': 348496.72, 'total_cost': 241640.88, 'total_profit': 106855.84}\n",
            "{'_id': 'dc160699-6b41-419f-9606-996b41e19fa0', 'order_id': '940995585', 'region': 'Australia and Oceania', 'country': 'Papua New Guinea', 'item_type': 'Meat', 'sales_channel': 'Offline', 'order_priority': 'M', 'order_date': '5/15/2015', 'ship_date': '6/4/2015', 'units_sold': 360, 'unit_price': 421.89, 'unit_cost': 364.69, 'total_revenue': 151880.4, 'total_cost': 131288.4, 'total_profit': 20592}\n",
            "{'_id': '93f896d5-a0f7-40a8-b896-d5a0f740a880', 'order_id': '887409770', 'region': 'Europe', 'country': 'Italy', 'item_type': 'Cereal', 'sales_channel': 'Online', 'order_priority': 'C', 'order_date': '11/30/2015', 'ship_date': '12/5/2015', 'units_sold': 3126, 'unit_price': 205.7, 'unit_cost': 117.11, 'total_revenue': 643018.2, 'total_cost': 366085.86, 'total_profit': 276932.34}\n",
            "{'_id': 'dc2e0d7f-5dfe-4b09-ae0d-7f5dfe0b0927', 'order_id': '265081918', 'region': 'Europe', 'country': 'Sweden', 'item_type': 'Beverages', 'sales_channel': 'Online', 'order_priority': 'H', 'order_date': '9/13/2012', 'ship_date': '10/12/2012', 'units_sold': 2485, 'unit_price': 47.45, 'unit_cost': 31.79, 'total_revenue': 117913.25, 'total_cost': 78998.15, 'total_profit': 38915.1}\n",
            "{'_id': 'b0d4ef6d-2ee0-4353-94ef-6d2ee0035357', 'order_id': '153842341', 'region': 'Asia', 'country': 'Brunei', 'item_type': 'Cereal', 'sales_channel': 'Offline', 'order_priority': 'L', 'order_date': '5/28/2013', 'ship_date': '7/16/2013', 'units_sold': 4222, 'unit_price': 205.7, 'unit_cost': 117.11, 'total_revenue': 868465.4, 'total_cost': 494438.42, 'total_profit': 374026.98}\n",
            "{'_id': '270c4d0e-9880-455a-8c4d-0e9880655a1a', 'order_id': '797385394', 'region': 'Europe', 'country': 'Italy', 'item_type': 'Office Supplies', 'sales_channel': 'Online', 'order_priority': 'H', 'order_date': '3/29/2011', 'ship_date': '4/11/2011', 'units_sold': 2913, 'unit_price': 651.21, 'unit_cost': 524.96, 'total_revenue': 1896974.73, 'total_cost': 1529208.48, 'total_profit': 367766.25}\n",
            "{'_id': '7815259f-0066-4987-9525-9f0066f987d4', 'order_id': '571997869', 'region': 'Australia and Oceania', 'country': 'Vanuatu', 'item_type': 'Fruits', 'sales_channel': 'Online', 'order_priority': 'C', 'order_date': '11/3/2013', 'ship_date': '11/11/2013', 'units_sold': 5735, 'unit_price': 9.33, 'unit_cost': 6.92, 'total_revenue': 53507.55, 'total_cost': 39686.2, 'total_profit': 13821.35}\n",
            "{'_id': '26e30118-68a4-40a9-a301-1868a480a919', 'order_id': '371502530', 'region': 'Middle East and North Africa', 'country': 'Israel', 'item_type': 'Beverages', 'sales_channel': 'Offline', 'order_priority': 'H', 'order_date': '9/8/2013', 'ship_date': '10/13/2013', 'units_sold': 4709, 'unit_price': 47.45, 'unit_cost': 31.79, 'total_revenue': 223442.05, 'total_cost': 149699.11, 'total_profit': 73742.94}\n",
            "{'_id': '12cc3bf8-d7da-432d-8c3b-f8d7daa32dc5', 'order_id': '699160754', 'region': 'Sub-Saharan Africa', 'country': 'Rwanda', 'item_type': 'Fruits', 'sales_channel': 'Online', 'order_priority': 'L', 'order_date': '9/5/2012', 'ship_date': '9/15/2012', 'units_sold': 6059, 'unit_price': 9.33, 'unit_cost': 6.92, 'total_revenue': 56530.47, 'total_cost': 41928.28, 'total_profit': 14602.19}\n",
            "{'_id': '1fa9f5d7-7118-4528-a9f5-d771181528b7', 'order_id': '101328551', 'region': 'Australia and Oceania', 'country': 'Solomon Islands', 'item_type': 'Household', 'sales_channel': 'Online', 'order_priority': 'M', 'order_date': '12/17/2010', 'ship_date': '12/28/2010', 'units_sold': 4225, 'unit_price': 668.27, 'unit_cost': 502.54, 'total_revenue': 2823440.75, 'total_cost': 2123231.5, 'total_profit': 700209.25}\n",
            "{'_id': '60128e6c-85b6-496a-928e-6c85b6096ae5', 'order_id': '726137769', 'region': 'Europe', 'country': 'Czech Republic', 'item_type': 'Cosmetics', 'sales_channel': 'Online', 'order_priority': 'H', 'order_date': '3/22/2014', 'ship_date': '4/26/2014', 'units_sold': 9157, 'unit_price': 437.2, 'unit_cost': 263.33, 'total_revenue': 4003440.4, 'total_cost': 2411312.81, 'total_profit': 1592127.59}\n",
            "{'_id': '62620e44-a4ec-456f-a20e-44a4eca56ffb', 'order_id': '862861335', 'region': 'Sub-Saharan Africa', 'country': 'The Gambia', 'item_type': 'Fruits', 'sales_channel': 'Online', 'order_priority': 'C', 'order_date': '11/20/2011', 'ship_date': '11/22/2011', 'units_sold': 8699, 'unit_price': 9.33, 'unit_cost': 6.92, 'total_revenue': 81161.67, 'total_cost': 60197.08, 'total_profit': 20964.59}\n",
            "{'_id': '78262d35-dd13-44bb-a62d-35dd1344bb1b', 'order_id': '757619178', 'region': 'Asia', 'country': 'Turkmenistan', 'item_type': 'Meat', 'sales_channel': 'Online', 'order_priority': 'M', 'order_date': '4/30/2017', 'ship_date': '5/14/2017', 'units_sold': 5206, 'unit_price': 421.89, 'unit_cost': 364.69, 'total_revenue': 2196359.34, 'total_cost': 1898576.14, 'total_profit': 297783.2}\n",
            "{'_id': '6f8ab6b8-afba-405c-8ab6-b8afba105c58', 'order_id': '450544869', 'region': 'Sub-Saharan Africa', 'country': 'Malawi', 'item_type': 'Meat', 'sales_channel': 'Offline', 'order_priority': 'H', 'order_date': '3/1/2016', 'ship_date': '3/12/2016', 'units_sold': 5094, 'unit_price': 421.89, 'unit_cost': 364.69, 'total_revenue': 2149107.66, 'total_cost': 1857730.86, 'total_profit': 291376.8}\n",
            "{'_id': '998b4018-cacc-4ada-8b40-18cacceada46', 'order_id': '174590194', 'region': 'Europe', 'country': 'Slovakia', 'item_type': 'Beverages', 'sales_channel': 'Offline', 'order_priority': 'L', 'order_date': '10/26/2016', 'ship_date': '12/4/2016', 'units_sold': 3973, 'unit_price': 47.45, 'unit_cost': 31.79, 'total_revenue': 188518.85, 'total_cost': 126301.67, 'total_profit': 62217.18}\n",
            "{'_id': 'cc597e38-9e91-48e9-997e-389e9188e999', 'order_id': '747796285', 'region': 'Asia', 'country': 'Japan', 'item_type': 'Household', 'sales_channel': 'Offline', 'order_priority': 'M', 'order_date': '7/16/2014', 'ship_date': '7/24/2014', 'units_sold': 8393, 'unit_price': 668.27, 'unit_cost': 502.54, 'total_revenue': 5608790.11, 'total_cost': 4217818.22, 'total_profit': 1390971.89}\n",
            "{'_id': '1b21e405-49a1-4156-a1e4-0549a1a156f2', 'order_id': '349235904', 'region': 'Sub-Saharan Africa', 'country': 'Mauritius ', 'item_type': 'Clothes', 'sales_channel': 'Offline', 'order_priority': 'M', 'order_date': '11/17/2012', 'ship_date': '12/2/2012', 'units_sold': 5520, 'unit_price': 109.28, 'unit_cost': 35.84, 'total_revenue': 603225.6, 'total_cost': 197836.8, 'total_profit': 405388.8}\n",
            "{'_id': 'edb5018b-bc5b-4649-b501-8bbc5b1649ca', 'order_id': '274930989', 'region': 'Central America and the Caribbean', 'country': 'Dominica', 'item_type': 'Household', 'sales_channel': 'Offline', 'order_priority': 'C', 'order_date': '11/19/2011', 'ship_date': '12/13/2011', 'units_sold': 7044, 'unit_price': 668.27, 'unit_cost': 502.54, 'total_revenue': 4707293.88, 'total_cost': 3539891.76, 'total_profit': 1167402.12}\n",
            "{'_id': '0e252194-476b-4c60-a521-94476bac60c8', 'order_id': '246248090', 'region': 'Central America and the Caribbean', 'country': 'The Bahamas', 'item_type': 'Personal Care', 'sales_channel': 'Online', 'order_priority': 'C', 'order_date': '1/19/2011', 'ship_date': '2/21/2011', 'units_sold': 9137, 'unit_price': 81.73, 'unit_cost': 56.67, 'total_revenue': 746767.01, 'total_cost': 517793.79, 'total_profit': 228973.22}\n",
            "{'_id': '814bdaa4-1c4c-4cdf-8bda-a41c4cccdfbc', 'order_id': '297876536', 'region': 'Asia', 'country': 'South Korea', 'item_type': 'Meat', 'sales_channel': 'Offline', 'order_priority': 'L', 'order_date': '3/16/2016', 'ship_date': '4/20/2016', 'units_sold': 7141, 'unit_price': 421.89, 'unit_cost': 364.69, 'total_revenue': 3012716.49, 'total_cost': 2604251.29, 'total_profit': 408465.2}\n",
            "{'_id': 'e8a33119-063a-4cdc-a331-19063adcdc84', 'order_id': '882908809', 'region': 'Middle East and North Africa', 'country': 'Egypt', 'item_type': 'Clothes', 'sales_channel': 'Online', 'order_priority': 'C', 'order_date': '8/9/2016', 'ship_date': '8/24/2016', 'units_sold': 1192, 'unit_price': 109.28, 'unit_cost': 35.84, 'total_revenue': 130261.76, 'total_cost': 42721.28, 'total_profit': 87540.48}\n",
            "{'_id': '03962987-b006-4d43-9629-87b0066d4389', 'order_id': '479969346', 'region': 'Middle East and North Africa', 'country': 'Tunisia ', 'item_type': 'Cosmetics', 'sales_channel': 'Offline', 'order_priority': 'H', 'order_date': '7/1/2012', 'ship_date': '7/20/2012', 'units_sold': 2450, 'unit_price': 437.2, 'unit_cost': 263.33, 'total_revenue': 1071140.0, 'total_cost': 645158.5, 'total_profit': 425981.5}\n",
            "{'_id': 'fe6dc84b-34f3-479e-adc8-4b34f3079e34', 'order_id': '601245963', 'region': 'Sub-Saharan Africa', 'country': 'Ghana', 'item_type': 'Office Supplies', 'sales_channel': 'Online', 'order_priority': 'L', 'order_date': '3/23/2017', 'ship_date': '4/15/2017', 'units_sold': 896, 'unit_price': 651.21, 'unit_cost': 524.96, 'total_revenue': 583484.16, 'total_cost': 470364.16, 'total_profit': 113120.0}\n",
            "{'_id': '7c88f3a6-e9a5-4a62-88f3-a6e9a5ba6224', 'order_id': '940980136', 'region': 'Australia and Oceania', 'country': 'New Zealand', 'item_type': 'Beverages', 'sales_channel': 'Online', 'order_priority': 'M', 'order_date': '10/11/2012', 'ship_date': '11/4/2012', 'units_sold': 5788, 'unit_price': 47.45, 'unit_cost': 31.79, 'total_revenue': 274640.6, 'total_cost': 184000.52, 'total_profit': 90640.08}\n",
            "{'_id': 'b4379dce-f7a7-4d52-b79d-cef7a70d5286', 'order_id': '835696351', 'region': 'Europe', 'country': 'Estonia', 'item_type': 'Household', 'sales_channel': 'Offline', 'order_priority': 'H', 'order_date': '9/1/2011', 'ship_date': '10/21/2011', 'units_sold': 9976, 'unit_price': 668.27, 'unit_cost': 502.54, 'total_revenue': 6666661.52, 'total_cost': 5013339.04, 'total_profit': 1653322.48}\n",
            "{'_id': '0be2be2f-7d78-4e2b-a2be-2f7d78de2bb3', 'order_id': '440306556', 'region': 'Asia', 'country': 'India', 'item_type': 'Snacks', 'sales_channel': 'Online', 'order_priority': 'L', 'order_date': '10/10/2012', 'ship_date': '11/20/2012', 'units_sold': 5349, 'unit_price': 152.58, 'unit_cost': 97.44, 'total_revenue': 816150.42, 'total_cost': 521206.56, 'total_profit': 294943.86}\n",
            "{'_id': 'fe283e27-4886-453b-a83e-274886d53b31', 'order_id': '955894076', 'region': 'Asia', 'country': 'Malaysia', 'item_type': 'Beverages', 'sales_channel': 'Online', 'order_priority': 'M', 'order_date': '11/13/2014', 'ship_date': '12/28/2014', 'units_sold': 9154, 'unit_price': 47.45, 'unit_cost': 31.79, 'total_revenue': 434357.3, 'total_cost': 291005.66, 'total_profit': 143351.64}\n",
            "{'_id': '7d339d74-c0e8-4fdf-b39d-74c0e8cfdf3e', 'order_id': '425793445', 'region': 'Sub-Saharan Africa', 'country': 'Seychelles ', 'item_type': 'Beverages', 'sales_channel': 'Online', 'order_priority': 'M', 'order_date': '1/18/2013', 'ship_date': '2/16/2013', 'units_sold': 597, 'unit_price': 47.45, 'unit_cost': 31.79, 'total_revenue': 28327.65, 'total_cost': 18978.63, 'total_profit': 9349.02}\n",
            "{'_id': '39ab9000-8bd8-4641-ab90-008bd846415e', 'order_id': '633134210', 'region': 'Europe', 'country': 'Romania', 'item_type': 'Cereal', 'sales_channel': 'Online', 'order_priority': 'M', 'order_date': '4/16/2015', 'ship_date': '4/18/2015', 'units_sold': 7337, 'unit_price': 205.7, 'unit_cost': 117.11, 'total_revenue': 1509220.9, 'total_cost': 859236.07, 'total_profit': 649984.83}\n",
            "{'_id': '1af2187b-7286-4936-b218-7b728689365f', 'order_id': '902511680', 'region': 'Europe', 'country': 'Montenegro', 'item_type': 'Clothes', 'sales_channel': 'Offline', 'order_priority': 'M', 'order_date': '9/4/2016', 'ship_date': '9/8/2016', 'units_sold': 2117, 'unit_price': 109.28, 'unit_cost': 35.84, 'total_revenue': 231345.76, 'total_cost': 75873.28, 'total_profit': 155472.48}\n",
            "{'_id': '0e39829c-e27c-48f4-b982-9ce27c78f472', 'order_id': '500371730', 'region': 'Middle East and North Africa', 'country': 'Pakistan', 'item_type': 'Meat', 'sales_channel': 'Online', 'order_priority': 'M', 'order_date': '12/28/2013', 'ship_date': '2/15/2014', 'units_sold': 9969, 'unit_price': 421.89, 'unit_cost': 364.69, 'total_revenue': 4205821.41, 'total_cost': 3635594.61, 'total_profit': 570226.8}\n",
            "{'_id': '2c879c7f-c5f3-4077-879c-7fc5f3307745', 'order_id': '739008080', 'region': 'Sub-Saharan Africa', 'country': 'Tanzania', 'item_type': 'Cosmetics', 'sales_channel': 'Offline', 'order_priority': 'L', 'order_date': '5/23/2016', 'ship_date': '5/24/2016', 'units_sold': 7768, 'unit_price': 437.2, 'unit_cost': 263.33, 'total_revenue': 3396169.6, 'total_cost': 2045547.44, 'total_profit': 1350622.16}\n",
            "{'_id': 'f621153c-ad42-47f6-a115-3cad4237f6d5', 'order_id': '830192887', 'region': 'Asia', 'country': 'Sri Lanka', 'item_type': 'Fruits', 'sales_channel': 'Online', 'order_priority': 'L', 'order_date': '11/7/2011', 'ship_date': '12/18/2011', 'units_sold': 1379, 'unit_price': 9.33, 'unit_cost': 6.92, 'total_revenue': 12866.07, 'total_cost': 9542.68, 'total_profit': 3323.39}\n",
            "{'_id': 'a2dfbd94-0f13-4bb3-9fbd-940f13ebb3f7', 'order_id': '176461303', 'region': 'Asia', 'country': 'Singapore', 'item_type': 'Snacks', 'sales_channel': 'Online', 'order_priority': 'C', 'order_date': '1/28/2013', 'ship_date': '2/7/2013', 'units_sold': 7676, 'unit_price': 152.58, 'unit_cost': 97.44, 'total_revenue': 1171204.08, 'total_cost': 747949.44, 'total_profit': 423254.64}\n",
            "{'_id': '8c2ed07f-e602-4d68-aed0-7fe602dd68ac', 'order_id': '953361213', 'region': 'Sub-Saharan Africa', 'country': 'Zimbabwe', 'item_type': 'Office Supplies', 'sales_channel': 'Offline', 'order_priority': 'C', 'order_date': '3/28/2011', 'ship_date': '4/8/2011', 'units_sold': 9623, 'unit_price': 651.21, 'unit_cost': 524.96, 'total_revenue': 6266593.83, 'total_cost': 5051690.08, 'total_profit': 1214903.75}\n",
            "{'_id': '70248366-cefb-461a-a483-66cefb261aea', 'order_id': '757257401', 'region': 'Europe', 'country': 'Finland', 'item_type': 'Household', 'sales_channel': 'Offline', 'order_priority': 'H', 'order_date': '1/15/2016', 'ship_date': '1/31/2016', 'units_sold': 8148, 'unit_price': 668.27, 'unit_cost': 502.54, 'total_revenue': 5445063.96, 'total_cost': 4094695.92, 'total_profit': 1350368.04}\n",
            "{'_id': 'ebb803b0-c779-4389-b803-b0c779b389b1', 'order_id': '548299157', 'region': 'Sub-Saharan Africa', 'country': 'Sao Tome and Principe', 'item_type': 'Clothes', 'sales_channel': 'Offline', 'order_priority': 'L', 'order_date': '11/11/2015', 'ship_date': '12/28/2015', 'units_sold': 2760, 'unit_price': 109.28, 'unit_cost': 35.84, 'total_revenue': 301612.8, 'total_cost': 98918.4, 'total_profit': 202694.4}\n",
            "{'_id': '7029c947-a58b-43d7-a9c9-47a58b93d706', 'order_id': '358570849', 'region': 'Middle East and North Africa', 'country': 'Oman', 'item_type': 'Cosmetics', 'sales_channel': 'Online', 'order_priority': 'H', 'order_date': '11/29/2010', 'ship_date': '12/28/2010', 'units_sold': 7937, 'unit_price': 437.2, 'unit_cost': 263.33, 'total_revenue': 3470056.4, 'total_cost': 2090050.21, 'total_profit': 1380006.19}\n",
            "{'_id': '03ae8dbb-a0f4-4001-ae8d-bba0f460015e', 'order_id': '485070693', 'region': 'Central America and the Caribbean', 'country': 'Haiti', 'item_type': 'Office Supplies', 'sales_channel': 'Online', 'order_priority': 'C', 'order_date': '12/31/2010', 'ship_date': '1/31/2011', 'units_sold': 2052, 'unit_price': 651.21, 'unit_cost': 524.96, 'total_revenue': 1336282.92, 'total_cost': 1077217.92, 'total_profit': 259065}\n",
            "{'_id': '181617ed-2a8b-4ce2-9617-ed2a8b5ce2b4', 'order_id': '180908620', 'region': 'Europe', 'country': 'Moldova ', 'item_type': 'Fruits', 'sales_channel': 'Online', 'order_priority': 'C', 'order_date': '1/27/2013', 'ship_date': '3/3/2013', 'units_sold': 3736, 'unit_price': 9.33, 'unit_cost': 6.92, 'total_revenue': 34856.88, 'total_cost': 25853.12, 'total_profit': 9003.76}\n",
            "{'_id': '8f0f23e6-4ac4-4eb9-8f23-e64ac4eeb9ad', 'order_id': '647164094', 'region': 'Australia and Oceania', 'country': 'Papua New Guinea', 'item_type': 'Clothes', 'sales_channel': 'Offline', 'order_priority': 'L', 'order_date': '6/20/2011', 'ship_date': '7/14/2011', 'units_sold': 9092, 'unit_price': 109.28, 'unit_cost': 35.84, 'total_revenue': 993573.76, 'total_cost': 325857.28, 'total_profit': 667716.48}\n",
            "{'_id': 'f12fc774-b04d-4798-afc7-74b04dc79841', 'order_id': '146634709', 'region': 'Sub-Saharan Africa', 'country': 'Liberia', 'item_type': 'Baby Food', 'sales_channel': 'Offline', 'order_priority': 'H', 'order_date': '6/6/2015', 'ship_date': '6/12/2015', 'units_sold': 1324, 'unit_price': 255.28, 'unit_cost': 159.42, 'total_revenue': 337990.72, 'total_cost': 211072.08, 'total_profit': 126918.64}\n",
            "{'_id': 'cddf8a49-dec0-4387-9f8a-49dec08387b7', 'order_id': '756839835', 'region': 'Europe', 'country': 'Romania', 'item_type': 'Beverages', 'sales_channel': 'Online', 'order_priority': 'M', 'order_date': '2/19/2012', 'ship_date': '3/13/2012', 'units_sold': 4581, 'unit_price': 47.45, 'unit_cost': 31.79, 'total_revenue': 217368.45, 'total_cost': 145629.99, 'total_profit': 71738.46}\n",
            "{'_id': '8211704d-8e27-4554-9170-4d8e27b55444', 'order_id': '343752610', 'region': 'Central America and the Caribbean', 'country': 'Nicaragua', 'item_type': 'Baby Food', 'sales_channel': 'Online', 'order_priority': 'L', 'order_date': '11/11/2016', 'ship_date': '11/16/2016', 'units_sold': 2891, 'unit_price': 255.28, 'unit_cost': 159.42, 'total_revenue': 738014.48, 'total_cost': 460883.22, 'total_profit': 277131.26}\n",
            "{'_id': 'a84d0f15-008f-424c-8d0f-15008f424cc1', 'order_id': '678230941', 'region': 'Europe', 'country': 'Iceland', 'item_type': 'Baby Food', 'sales_channel': 'Offline', 'order_priority': 'M', 'order_date': '10/2/2010', 'ship_date': '11/3/2010', 'units_sold': 2462, 'unit_price': 255.28, 'unit_cost': 159.42, 'total_revenue': 628499.36, 'total_cost': 392492.04, 'total_profit': 236007.32}\n",
            "{'_id': '7ea0679e-2e30-4b23-a067-9e2e30ab234f', 'order_id': '494570004', 'region': 'Sub-Saharan Africa', 'country': 'Madagascar', 'item_type': 'Clothes', 'sales_channel': 'Online', 'order_priority': 'L', 'order_date': '10/17/2016', 'ship_date': '10/26/2016', 'units_sold': 3110, 'unit_price': 109.28, 'unit_cost': 35.84, 'total_revenue': 339860.8, 'total_cost': 111462.4, 'total_profit': 228398.4}\n",
            "{'_id': '03244a38-689a-4492-a44a-38689ab492e6', 'order_id': '572335612', 'region': 'Australia and Oceania', 'country': 'Vanuatu', 'item_type': 'Cereal', 'sales_channel': 'Offline', 'order_priority': 'C', 'order_date': '6/20/2014', 'ship_date': '8/5/2014', 'units_sold': 5681, 'unit_price': 205.7, 'unit_cost': 117.11, 'total_revenue': 1168581.7, 'total_cost': 665301.91, 'total_profit': 503279.79}\n",
            "{'_id': 'bb3de016-3b6f-4134-bde0-163b6f013423', 'order_id': '467399013', 'region': 'Europe', 'country': 'Monaco', 'item_type': 'Beverages', 'sales_channel': 'Offline', 'order_priority': 'M', 'order_date': '5/29/2016', 'ship_date': '6/14/2016', 'units_sold': 2609, 'unit_price': 47.45, 'unit_cost': 31.79, 'total_revenue': 123797.05, 'total_cost': 82940.11, 'total_profit': 40856.94}\n",
            "{'_id': 'de6264a6-61da-40a1-a264-a661da10a1cb', 'order_id': '116205585', 'region': 'Asia', 'country': 'Turkmenistan', 'item_type': 'Vegetables', 'sales_channel': 'Online', 'order_priority': 'M', 'order_date': '4/13/2015', 'ship_date': '6/2/2015', 'units_sold': 6670, 'unit_price': 154.06, 'unit_cost': 90.93, 'total_revenue': 1027580.2, 'total_cost': 606503.1, 'total_profit': 421077.1}\n",
            "{'_id': 'cd9ba151-d405-49a9-9ba1-51d40519a9d8', 'order_id': '761723172', 'region': 'Middle East and North Africa', 'country': 'Algeria', 'item_type': 'Cosmetics', 'sales_channel': 'Online', 'order_priority': 'M', 'order_date': '2/18/2011', 'ship_date': '2/24/2011', 'units_sold': 9669, 'unit_price': 437.2, 'unit_cost': 263.33, 'total_revenue': 4227286.8, 'total_cost': 2546137.77, 'total_profit': 1681149.03}\n",
            "{'_id': '83d59a65-6814-41c2-959a-656814c1c2d3', 'order_id': '824714744', 'region': 'Central America and the Caribbean', 'country': 'Dominican Republic', 'item_type': 'Baby Food', 'sales_channel': 'Offline', 'order_priority': 'H', 'order_date': '8/25/2011', 'ship_date': '9/24/2011', 'units_sold': 274, 'unit_price': 255.28, 'unit_cost': 159.42, 'total_revenue': 69946.72, 'total_cost': 43681.08, 'total_profit': 26265.64}\n",
            "{'_id': '62c9953c-54e5-4cfb-8995-3c54e56cfbf8', 'order_id': '887124383', 'region': 'Europe', 'country': 'Greece', 'item_type': 'Cereal', 'sales_channel': 'Online', 'order_priority': 'H', 'order_date': '8/22/2015', 'ship_date': '10/8/2015', 'units_sold': 8674, 'unit_price': 205.7, 'unit_cost': 117.11, 'total_revenue': 1784241.8, 'total_cost': 1015812.14, 'total_profit': 768429.66}\n",
            "{'_id': 'cf8545fa-b4e8-4c4a-8545-fab4e87c4a2a', 'order_id': '678896129', 'region': 'Asia', 'country': 'Indonesia', 'item_type': 'Personal Care', 'sales_channel': 'Offline', 'order_priority': 'L', 'order_date': '10/22/2012', 'ship_date': '10/31/2012', 'units_sold': 9306, 'unit_price': 81.73, 'unit_cost': 56.67, 'total_revenue': 760579.38, 'total_cost': 527371.02, 'total_profit': 233208.36}\n",
            "{'_id': '628966ed-81db-4b4d-8966-ed81db6b4df0', 'order_id': '925136649', 'region': 'Europe', 'country': 'Serbia', 'item_type': 'Clothes', 'sales_channel': 'Offline', 'order_priority': 'L', 'order_date': '7/6/2016', 'ship_date': '7/13/2016', 'units_sold': 7348, 'unit_price': 109.28, 'unit_cost': 35.84, 'total_revenue': 802989.44, 'total_cost': 263352.32, 'total_profit': 539637.12}\n",
            "{'_id': '32a8c1e0-604a-4130-a8c1-e0604a9130ba', 'order_id': '937431466', 'region': 'Australia and Oceania', 'country': 'Samoa ', 'item_type': 'Household', 'sales_channel': 'Online', 'order_priority': 'L', 'order_date': '12/5/2016', 'ship_date': '12/8/2016', 'units_sold': 5657, 'unit_price': 668.27, 'unit_cost': 502.54, 'total_revenue': 3780403.39, 'total_cost': 2842868.78, 'total_profit': 937534.61}\n",
            "{'_id': '0d1a8455-9ab0-493b-9a84-559ab0a93b66', 'order_id': '704205024', 'region': 'Middle East and North Africa', 'country': 'Lebanon', 'item_type': 'Meat', 'sales_channel': 'Online', 'order_priority': 'L', 'order_date': '3/8/2017', 'ship_date': '4/18/2017', 'units_sold': 8770, 'unit_price': 421.89, 'unit_cost': 364.69, 'total_revenue': 3699975.3, 'total_cost': 3198331.3, 'total_profit': 501644}\n",
            "{'_id': 'ea03f538-06ca-4af8-83f5-3806ca2af849', 'order_id': '315402734', 'region': 'Central America and the Caribbean', 'country': 'Belize', 'item_type': 'Personal Care', 'sales_channel': 'Online', 'order_priority': 'H', 'order_date': '6/14/2015', 'ship_date': '8/2/2015', 'units_sold': 3533, 'unit_price': 81.73, 'unit_cost': 56.67, 'total_revenue': 288752.09, 'total_cost': 200215.11, 'total_profit': 88536.98}\n",
            "{'_id': '1fb8d67e-5555-48d2-b8d6-7e5555f8d25b', 'order_id': '425418365', 'region': 'Middle East and North Africa', 'country': 'United Arab Emirates', 'item_type': 'Office Supplies', 'sales_channel': 'Online', 'order_priority': 'M', 'order_date': '6/23/2012', 'ship_date': '7/6/2012', 'units_sold': 9603, 'unit_price': 651.21, 'unit_cost': 524.96, 'total_revenue': 6253569.63, 'total_cost': 5041190.88, 'total_profit': 1212378.75}\n",
            "{'_id': '45f4efcc-c8a9-4b31-b4ef-ccc8a9fb3142', 'order_id': '438011872', 'region': 'Central America and the Caribbean', 'country': 'Dominica', 'item_type': 'Beverages', 'sales_channel': 'Online', 'order_priority': 'L', 'order_date': '6/12/2012', 'ship_date': '7/18/2012', 'units_sold': 6301, 'unit_price': 47.45, 'unit_cost': 31.79, 'total_revenue': 298982.45, 'total_cost': 200308.79, 'total_profit': 98673.66}\n",
            "{'_id': '92a9d0b5-4a57-4bbd-a9d0-b54a576bbdf6', 'order_id': '252889239', 'region': 'Asia', 'country': 'Thailand', 'item_type': 'Meat', 'sales_channel': 'Online', 'order_priority': 'C', 'order_date': '2/4/2015', 'ship_date': '2/19/2015', 'units_sold': 4401, 'unit_price': 421.89, 'unit_cost': 364.69, 'total_revenue': 1856737.89, 'total_cost': 1605000.69, 'total_profit': 251737.2}\n",
            "{'_id': 'babb69ac-2fcd-445b-bb69-ac2fcdf45b5c', 'order_id': '842238795', 'region': 'Sub-Saharan Africa', 'country': 'Uganda', 'item_type': 'Cosmetics', 'sales_channel': 'Online', 'order_priority': 'M', 'order_date': '2/28/2015', 'ship_date': '3/15/2015', 'units_sold': 6031, 'unit_price': 437.2, 'unit_cost': 263.33, 'total_revenue': 2636753.2, 'total_cost': 1588143.23, 'total_profit': 1048609.97}\n",
            "{'_id': 'ccb35ec6-c31b-4816-b35e-c6c31b381637', 'order_id': '539471471', 'region': 'Sub-Saharan Africa', 'country': 'Uganda', 'item_type': 'Personal Care', 'sales_channel': 'Online', 'order_priority': 'M', 'order_date': '6/19/2014', 'ship_date': '7/21/2014', 'units_sold': 451, 'unit_price': 81.73, 'unit_cost': 56.67, 'total_revenue': 36860.23, 'total_cost': 25558.17, 'total_profit': 11302.06}\n",
            "{'_id': '66e882c3-ea23-43e2-a882-c3ea2353e2ae', 'order_id': '294530856', 'region': 'Europe', 'country': 'Italy', 'item_type': 'Cereal', 'sales_channel': 'Online', 'order_priority': 'M', 'order_date': '11/15/2011', 'ship_date': '12/28/2011', 'units_sold': 7080, 'unit_price': 205.7, 'unit_cost': 117.11, 'total_revenue': 1456356, 'total_cost': 829138.8, 'total_profit': 627217.2}\n",
            "{'_id': '174bad67-8a8d-4258-8bad-678a8da2589c', 'order_id': '732588374', 'region': 'Asia', 'country': 'Taiwan', 'item_type': 'Fruits', 'sales_channel': 'Offline', 'order_priority': 'M', 'order_date': '2/9/2014', 'ship_date': '2/23/2014', 'units_sold': 8034, 'unit_price': 9.33, 'unit_cost': 6.92, 'total_revenue': 74957.22, 'total_cost': 55595.28, 'total_profit': 19361.94}\n",
            "{'_id': '5b731a2b-ec91-4448-b31a-2bec91d448df', 'order_id': '363086831', 'region': 'Sub-Saharan Africa', 'country': 'Mali', 'item_type': 'Household', 'sales_channel': 'Offline', 'order_priority': 'M', 'order_date': '8/19/2010', 'ship_date': '9/7/2010', 'units_sold': 4317, 'unit_price': 668.27, 'unit_cost': 502.54, 'total_revenue': 2884921.59, 'total_cost': 2169465.18, 'total_profit': 715456.41}\n",
            "{'_id': '8f2305f0-70aa-4d89-a305-f070aadd890e', 'order_id': '488121116', 'region': 'Central America and the Caribbean', 'country': 'The Bahamas', 'item_type': 'Fruits', 'sales_channel': 'Offline', 'order_priority': 'L', 'order_date': '6/18/2010', 'ship_date': '6/30/2010', 'units_sold': 4740, 'unit_price': 9.33, 'unit_cost': 6.92, 'total_revenue': 44224.2, 'total_cost': 32800.8, 'total_profit': 11423.4}\n",
            "{'_id': 'add54d9b-8460-4079-954d-9b8460d079c1', 'order_id': '104191863', 'region': 'Europe', 'country': 'Albania', 'item_type': 'Personal Care', 'sales_channel': 'Offline', 'order_priority': 'M', 'order_date': '2/6/2016', 'ship_date': '2/11/2016', 'units_sold': 1543, 'unit_price': 81.73, 'unit_cost': 56.67, 'total_revenue': 126109.39, 'total_cost': 87441.81, 'total_profit': 38667.58}\n",
            "{'_id': '51b6c655-577b-412b-b6c6-55577bc12bca', 'order_id': '443368995', 'region': 'Sub-Saharan Africa', 'country': 'South Africa', 'item_type': 'Fruits', 'sales_channel': 'Offline', 'order_priority': 'M', 'order_date': '7/27/2012', 'ship_date': '7/28/2012', 'units_sold': 1593, 'unit_price': 9.33, 'unit_cost': 6.92, 'total_revenue': 14862.69, 'total_cost': 11023.56, 'total_profit': 3839.13}\n",
            "{'_id': 'ed04da28-fec3-41ad-84da-28fec371ad4e', 'order_id': '314505374', 'region': 'Asia', 'country': 'Vietnam', 'item_type': 'Personal Care', 'sales_channel': 'Online', 'order_priority': 'M', 'order_date': '4/4/2010', 'ship_date': '5/6/2010', 'units_sold': 7984, 'unit_price': 81.73, 'unit_cost': 56.67, 'total_revenue': 652532.32, 'total_cost': 452453.28, 'total_profit': 200079.04}\n",
            "{'_id': '24817c9c-547d-41de-817c-9c547da1de20', 'order_id': '222504317', 'region': 'Europe', 'country': 'Belgium', 'item_type': 'Personal Care', 'sales_channel': 'Online', 'order_priority': 'H', 'order_date': '11/1/2011', 'ship_date': '11/20/2011', 'units_sold': 2827, 'unit_price': 81.73, 'unit_cost': 56.67, 'total_revenue': 231050.71, 'total_cost': 160206.09, 'total_profit': 70844.62}\n",
            "{'_id': 'a88ae385-f4e2-423c-8ae3-85f4e2123c34', 'order_id': '434008300', 'region': 'Asia', 'country': 'Thailand', 'item_type': 'Fruits', 'sales_channel': 'Offline', 'order_priority': 'C', 'order_date': '9/30/2012', 'ship_date': '11/14/2012', 'units_sold': 1555, 'unit_price': 9.33, 'unit_cost': 6.92, 'total_revenue': 14508.15, 'total_cost': 10760.6, 'total_profit': 3747.55}\n",
            "{'_id': 'd1415adf-66cd-49a8-815a-df66cd19a895', 'order_id': '584356629', 'region': 'Sub-Saharan Africa', 'country': 'Democratic Republic of the Congo', 'item_type': 'Cosmetics', 'sales_channel': 'Online', 'order_priority': 'M', 'order_date': '10/7/2012', 'ship_date': '10/25/2012', 'units_sold': 2967, 'unit_price': 437.2, 'unit_cost': 263.33, 'total_revenue': 1297172.4, 'total_cost': 781300.11, 'total_profit': 515872.29}\n",
            "{'_id': '0155797e-0e8e-40e3-9579-7e0e8e40e369', 'order_id': '179137074', 'region': 'Asia', 'country': 'Nepal', 'item_type': 'Meat', 'sales_channel': 'Online', 'order_priority': 'H', 'order_date': '2/21/2014', 'ship_date': '3/14/2014', 'units_sold': 9496, 'unit_price': 421.89, 'unit_cost': 364.69, 'total_revenue': 4006267.44, 'total_cost': 3463096.24, 'total_profit': 543171.2}\n",
            "{'_id': 'c343414a-df1b-435a-8341-4adf1be35ab3', 'order_id': '496523940', 'region': 'Sub-Saharan Africa', 'country': 'Ghana', 'item_type': 'Fruits', 'sales_channel': 'Offline', 'order_priority': 'M', 'order_date': '5/29/2016', 'ship_date': '6/4/2016', 'units_sold': 1323, 'unit_price': 9.33, 'unit_cost': 6.92, 'total_revenue': 12343.59, 'total_cost': 9155.16, 'total_profit': 3188.43}\n",
            "{'_id': '406eae7a-586b-4715-aeae-7a586bb715cf', 'order_id': '791778934', 'region': 'Sub-Saharan Africa', 'country': 'Ghana', 'item_type': 'Clothes', 'sales_channel': 'Online', 'order_priority': 'M', 'order_date': '11/2/2011', 'ship_date': '12/1/2011', 'units_sold': 3836, 'unit_price': 109.28, 'unit_cost': 35.84, 'total_revenue': 419198.08, 'total_cost': 137482.24, 'total_profit': 281715.84}\n",
            "{'_id': '754fbd46-c58f-4b92-8fbd-46c58fcb9261', 'order_id': '573998582', 'region': 'Central America and the Caribbean', 'country': 'Nicaragua', 'item_type': 'Household', 'sales_channel': 'Online', 'order_priority': 'C', 'order_date': '10/28/2015', 'ship_date': '12/7/2015', 'units_sold': 7791, 'unit_price': 668.27, 'unit_cost': 502.54, 'total_revenue': 5206491.57, 'total_cost': 3915289.14, 'total_profit': 1291202.43}\n",
            "{'_id': '4cce1921-82fd-47d3-8e19-2182fd37d3a4', 'order_id': '498071897', 'region': 'Asia', 'country': 'Taiwan', 'item_type': 'Cereal', 'sales_channel': 'Online', 'order_priority': 'H', 'order_date': '4/11/2010', 'ship_date': '5/26/2010', 'units_sold': 9397, 'unit_price': 205.7, 'unit_cost': 117.11, 'total_revenue': 1932962.9, 'total_cost': 1100482.67, 'total_profit': 832480.23}\n",
            "{'_id': '4323b921-4695-45dd-a3b9-21469565dd5d', 'order_id': '839094388', 'region': 'Australia and Oceania', 'country': 'Tonga', 'item_type': 'Baby Food', 'sales_channel': 'Online', 'order_priority': 'L', 'order_date': '5/11/2016', 'ship_date': '5/31/2016', 'units_sold': 5531, 'unit_price': 255.28, 'unit_cost': 159.42, 'total_revenue': 1411953.68, 'total_cost': 881752.02, 'total_profit': 530201.66}\n",
            "{'_id': '4b1abbb6-c263-42ed-9abb-b6c26392ed8a', 'order_id': '368977391', 'region': 'North America', 'country': 'Canada', 'item_type': 'Cosmetics', 'sales_channel': 'Online', 'order_priority': 'H', 'order_date': '5/9/2011', 'ship_date': '6/2/2011', 'units_sold': 7464, 'unit_price': 437.2, 'unit_cost': 263.33, 'total_revenue': 3263260.8, 'total_cost': 1965495.12, 'total_profit': 1297765.68}\n",
            "{'_id': '9d85e951-36c0-4809-85e9-5136c0b8094d', 'order_id': '845056617', 'region': 'Europe', 'country': 'Netherlands', 'item_type': 'Fruits', 'sales_channel': 'Online', 'order_priority': 'L', 'order_date': '11/19/2016', 'ship_date': '11/30/2016', 'units_sold': 9887, 'unit_price': 9.33, 'unit_cost': 6.92, 'total_revenue': 92245.71, 'total_cost': 68418.04, 'total_profit': 23827.67}\n",
            "{'_id': '73bbbd5e-8b01-4e20-bbbd-5e8b010e20bf', 'order_id': '731120240', 'region': 'Central America and the Caribbean', 'country': 'Saint Lucia', 'item_type': 'Fruits', 'sales_channel': 'Offline', 'order_priority': 'L', 'order_date': '12/12/2015', 'ship_date': '1/12/2016', 'units_sold': 3581, 'unit_price': 9.33, 'unit_cost': 6.92, 'total_revenue': 33410.73, 'total_cost': 24780.52, 'total_profit': 8630.21}\n",
            "{'_id': '7a99c6d4-8f54-4df3-99c6-d48f54adf307', 'order_id': '880811536', 'region': 'Sub-Saharan Africa', 'country': 'Djibouti', 'item_type': 'Clothes', 'sales_channel': 'Offline', 'order_priority': 'H', 'order_date': '5/17/2017', 'ship_date': '7/2/2017', 'units_sold': 562, 'unit_price': 109.28, 'unit_cost': 35.84, 'total_revenue': 61415.36, 'total_cost': 20142.08, 'total_profit': 41273.28}\n",
            "{'_id': '9af13ecc-113a-407d-b13e-cc113ab07db0', 'order_id': '459386289', 'region': 'Middle East and North Africa', 'country': 'Kuwait', 'item_type': 'Household', 'sales_channel': 'Offline', 'order_priority': 'C', 'order_date': '6/13/2011', 'ship_date': '7/21/2011', 'units_sold': 1466, 'unit_price': 668.27, 'unit_cost': 502.54, 'total_revenue': 979683.82, 'total_cost': 736723.64, 'total_profit': 242960.18}\n",
            "{'_id': 'bb9af916-e0a2-43c6-9af9-16e0a2c3c63d', 'order_id': '198927056', 'region': 'Asia', 'country': 'China', 'item_type': 'Office Supplies', 'sales_channel': 'Online', 'order_priority': 'M', 'order_date': '2/10/2016', 'ship_date': '3/29/2016', 'units_sold': 5791, 'unit_price': 651.21, 'unit_cost': 524.96, 'total_revenue': 3771157.11, 'total_cost': 3040043.36, 'total_profit': 731113.75}\n"
          ]
        }
      ],
      "source": [
        "results = collection.find()\n",
        "\n",
        "for item in results:\n",
        "    print(item)\n"
      ]
    }
  ],
  "metadata": {
    "colab": {
      "provenance": []
    },
    "kernelspec": {
      "display_name": "Python 3",
      "name": "python3"
    },
    "language_info": {
      "name": "python"
    }
  },
  "nbformat": 4,
  "nbformat_minor": 0
}
